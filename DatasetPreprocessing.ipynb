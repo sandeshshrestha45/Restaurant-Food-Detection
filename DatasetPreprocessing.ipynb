{
 "cells": [
  {
   "cell_type": "markdown",
   "id": "31e6f662",
   "metadata": {},
   "source": [
    "# To convert DIODE Dataset into 416x416"
   ]
  },
  {
   "cell_type": "code",
   "execution_count": 1,
   "id": "37601796",
   "metadata": {},
   "outputs": [],
   "source": [
    "import os\n",
    "from os import listdir\n",
    "import skimage.transform as st\n",
    "import cv2\n",
    "import numpy as np"
   ]
  },
  {
   "cell_type": "code",
   "execution_count": 46,
   "id": "2299d8b7",
   "metadata": {},
   "outputs": [
    {
     "name": "stdout",
     "output_type": "stream",
     "text": [
      "00021_00192_indoors_000_000.png\n",
      "00021_00192_indoors_000_020.png\n",
      "00021_00192_indoors_010_010.png\n",
      "00021_00192_indoors_010_030.png\n",
      "00021_00192_indoors_020_000.png\n",
      "00021_00192_indoors_020_020.png\n",
      "00021_00192_indoors_030_010.png\n",
      "00021_00192_indoors_030_030.png\n",
      "00021_00192_indoors_040_000.png\n",
      "00021_00192_indoors_220_000.png\n",
      "00021_00192_indoors_230_010.png\n",
      "00021_00192_indoors_240_000.png\n",
      "00021_00192_indoors_240_020.png\n",
      "00021_00192_indoors_300_000.png\n",
      "00021_00192_indoors_300_020.png\n",
      "00021_00192_indoors_310_010.png\n",
      "00021_00192_indoors_310_030.png\n",
      "00021_00192_indoors_320_000.png\n",
      "00021_00192_indoors_320_020.png\n",
      "00021_00192_indoors_330_010.png\n",
      "00021_00192_indoors_330_030.png\n",
      "00021_00192_indoors_340_000.png\n",
      "00021_00192_indoors_340_020.png\n",
      "00021_00192_indoors_350_010.png\n",
      "00021_00192_indoors_350_030.png\n"
     ]
    }
   ],
   "source": [
    "\n",
    "#convert png \n",
    "# get the path/directory\n",
    "folder_dir = \"E:\\\\Namespace\\\\CALCU\\\\diode\\\\val\\\\indoors\\\\scene_00021\\\\scan_00192\\\\\"\n",
    "for images in os.listdir(folder_dir):\n",
    " \n",
    "    # check if the image ends with png\n",
    "    if (images.endswith(\".png\")):\n",
    "        print(images)\n",
    "        img=cv2.imread('E:\\\\Namespace\\\\CALCU\\\\diode\\\\val\\\\indoors\\\\scene_00021\\\\scan_00192\\\\'+images)\n",
    "        img_array=np.asarray(img)\n",
    "        resized_image=st.resize(img_array,(416,416))\n",
    "        name=f\"{images.replace('.png', '')}.png\"\n",
    "        cv2.imwrite(name, 255*resized_image)"
   ]
  },
  {
   "cell_type": "code",
   "execution_count": 47,
   "id": "69de45d7",
   "metadata": {},
   "outputs": [
    {
     "name": "stdout",
     "output_type": "stream",
     "text": [
      "00021_00192_indoors_000_000_depth.npy\n",
      "00021_00192_indoors_000_020_depth.npy\n",
      "00021_00192_indoors_010_010_depth.npy\n",
      "00021_00192_indoors_010_030_depth.npy\n",
      "00021_00192_indoors_020_000_depth.npy\n",
      "00021_00192_indoors_020_020_depth.npy\n",
      "00021_00192_indoors_030_010_depth.npy\n",
      "00021_00192_indoors_030_030_depth.npy\n",
      "00021_00192_indoors_040_000_depth.npy\n",
      "00021_00192_indoors_220_000_depth.npy\n",
      "00021_00192_indoors_230_010_depth.npy\n",
      "00021_00192_indoors_240_000_depth.npy\n",
      "00021_00192_indoors_240_020_depth.npy\n",
      "00021_00192_indoors_300_000_depth.npy\n",
      "00021_00192_indoors_300_020_depth.npy\n",
      "00021_00192_indoors_310_010_depth.npy\n",
      "00021_00192_indoors_310_030_depth.npy\n",
      "00021_00192_indoors_320_000_depth.npy\n",
      "00021_00192_indoors_320_020_depth.npy\n",
      "00021_00192_indoors_330_010_depth.npy\n",
      "00021_00192_indoors_330_030_depth.npy\n",
      "00021_00192_indoors_340_000_depth.npy\n",
      "00021_00192_indoors_340_020_depth.npy\n",
      "00021_00192_indoors_350_010_depth.npy\n",
      "00021_00192_indoors_350_030_depth.npy\n"
     ]
    }
   ],
   "source": [
    "#convert depth\n",
    "folder_dir = \"E:\\\\Namespace\\\\CALCU\\\\diode\\\\val\\\\indoors\\\\scene_00021\\\\scan_00192\\\\\"\n",
    "for i in os.listdir(folder_dir):\n",
    " \n",
    "    # check if the image ends with png\n",
    "    if (i.endswith(\"_depth.npy\")):\n",
    "        print(i)\n",
    "        arr=np.load('E:\\\\Namespace\\\\CALCU\\\\diode\\\\val\\\\indoors\\\\scene_00021\\\\scan_00192\\\\'+i)\n",
    "        resized_depth=st.resize(arr,(416,416))\n",
    "        np.save(f\"{i.replace('.npy', '')}\", resized_depth)\n",
    "\n",
    "\n"
   ]
  },
  {
   "cell_type": "code",
   "execution_count": 48,
   "id": "048f74af",
   "metadata": {},
   "outputs": [
    {
     "name": "stdout",
     "output_type": "stream",
     "text": [
      "00021_00192_indoors_000_000_depth_mask.npy\n",
      "00021_00192_indoors_000_020_depth_mask.npy\n",
      "00021_00192_indoors_010_010_depth_mask.npy\n",
      "00021_00192_indoors_010_030_depth_mask.npy\n",
      "00021_00192_indoors_020_000_depth_mask.npy\n",
      "00021_00192_indoors_020_020_depth_mask.npy\n",
      "00021_00192_indoors_030_010_depth_mask.npy\n",
      "00021_00192_indoors_030_030_depth_mask.npy\n",
      "00021_00192_indoors_040_000_depth_mask.npy\n",
      "00021_00192_indoors_220_000_depth_mask.npy\n",
      "00021_00192_indoors_230_010_depth_mask.npy\n",
      "00021_00192_indoors_240_000_depth_mask.npy\n",
      "00021_00192_indoors_240_020_depth_mask.npy\n",
      "00021_00192_indoors_300_000_depth_mask.npy\n",
      "00021_00192_indoors_300_020_depth_mask.npy\n",
      "00021_00192_indoors_310_010_depth_mask.npy\n",
      "00021_00192_indoors_310_030_depth_mask.npy\n",
      "00021_00192_indoors_320_000_depth_mask.npy\n",
      "00021_00192_indoors_320_020_depth_mask.npy\n",
      "00021_00192_indoors_330_010_depth_mask.npy\n",
      "00021_00192_indoors_330_030_depth_mask.npy\n",
      "00021_00192_indoors_340_000_depth_mask.npy\n",
      "00021_00192_indoors_340_020_depth_mask.npy\n",
      "00021_00192_indoors_350_010_depth_mask.npy\n",
      "00021_00192_indoors_350_030_depth_mask.npy\n"
     ]
    }
   ],
   "source": [
    "#convert depth mask\n",
    "folder_dir = \"E:\\\\Namespace\\\\CALCU\\\\diode\\\\val\\\\indoors\\\\scene_00021\\\\scan_00192\\\\\"\n",
    "for i in os.listdir(folder_dir):\n",
    " \n",
    "    # check if the image ends with png\n",
    "    if (i.endswith(\"_depth_mask.npy\")):\n",
    "        print(i)\n",
    "        arr=np.load('E:\\\\Namespace\\\\CALCU\\\\diode\\\\val\\\\indoors\\\\scene_00021\\\\scan_00192\\\\'+i)\n",
    "        resized_depth=st.resize(arr,(416,416))\n",
    "        np.save(f\"{i.replace('.npy', '')}\", resized_depth)"
   ]
  },
  {
   "cell_type": "code",
   "execution_count": 49,
   "id": "794f779a",
   "metadata": {},
   "outputs": [],
   "source": [
    "x=np.load('00021_00192_indoors_240_020_depth_mask.npy')"
   ]
  },
  {
   "cell_type": "code",
   "execution_count": 50,
   "id": "e95b11a5",
   "metadata": {},
   "outputs": [
    {
     "data": {
      "text/plain": [
       "(416, 416)"
      ]
     },
     "execution_count": 50,
     "metadata": {},
     "output_type": "execute_result"
    }
   ],
   "source": [
    "x.shape"
   ]
  },
  {
   "cell_type": "code",
   "execution_count": 51,
   "id": "b6d0af90",
   "metadata": {},
   "outputs": [
    {
     "data": {
      "text/plain": [
       "-1"
      ]
     },
     "execution_count": 51,
     "metadata": {},
     "output_type": "execute_result"
    }
   ],
   "source": [
    "cv2.imshow('img',x)\n",
    "cv2.waitKey()"
   ]
  },
  {
   "cell_type": "code",
   "execution_count": null,
   "id": "265be879",
   "metadata": {},
   "outputs": [],
   "source": []
  }
 ],
 "metadata": {
  "kernelspec": {
   "display_name": "Python 3 (ipykernel)",
   "language": "python",
   "name": "python3"
  },
  "language_info": {
   "codemirror_mode": {
    "name": "ipython",
    "version": 3
   },
   "file_extension": ".py",
   "mimetype": "text/x-python",
   "name": "python",
   "nbconvert_exporter": "python",
   "pygments_lexer": "ipython3",
   "version": "3.7.0"
  }
 },
 "nbformat": 4,
 "nbformat_minor": 5
}
